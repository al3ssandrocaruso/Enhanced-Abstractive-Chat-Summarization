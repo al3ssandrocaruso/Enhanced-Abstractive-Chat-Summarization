{
 "cells": [
  {
   "cell_type": "code",
   "execution_count": 1,
   "metadata": {},
   "outputs": [
    {
     "name": "stderr",
     "output_type": "stream",
     "text": [
      "c:\\Users\\39331\\anaconda3\\envs\\deep_nlp_env\\lib\\site-packages\\tqdm\\auto.py:21: TqdmWarning: IProgress not found. Please update jupyter and ipywidgets. See https://ipywidgets.readthedocs.io/en/stable/user_install.html\n",
      "  from .autonotebook import tqdm as notebook_tqdm\n"
     ]
    }
   ],
   "source": [
    "from datasets import load_dataset\n",
    "from tqdm import tqdm\n",
    "from datasets import load_metric\n",
    "import pandas as pd"
   ]
  },
  {
   "cell_type": "code",
   "execution_count": 2,
   "metadata": {},
   "outputs": [
    {
     "name": "stderr",
     "output_type": "stream",
     "text": [
      "Found cached dataset samsum (C:/Users/39331/AppData/Roaming/SPB_16.6/.cache/huggingface/datasets/samsum/samsum/0.0.0/f1d7c6b7353e6de335d444e424dc002ef70d1277109031327bc9cc6af5d3d46e)\n",
      "100%|██████████| 3/3 [00:00<00:00, 751.80it/s]\n"
     ]
    }
   ],
   "source": [
    "'''\n",
    "file_path points to a fie in this folder with summaries separated by '\\n' (1 summary/row). \n",
    "The rouge metric is evaluated over the test set of samsum dataset. \n",
    "'''\n",
    "\n",
    "file_path = './tmp_result_EMOJI_M1.txt'\n",
    "\n",
    "with open(file_path, 'r', encoding='utf-8') as file:\n",
    "    candidates = file.read().split('\\n')\n",
    "\n",
    "candidates = candidates[:-1] # the last one is an empy new line, drop it.\n",
    "\n",
    "samsum = load_dataset('samsum')\n",
    "samsum_test_summary = samsum['test']['summary']"
   ]
  },
  {
   "cell_type": "code",
   "execution_count": 3,
   "metadata": {},
   "outputs": [
    {
     "name": "stderr",
     "output_type": "stream",
     "text": [
      "h:\\Il mio Drive\\2_1_Deep_NLP\\trials\\rouge_clean_emoji_M1.py:2: FutureWarning: load_metric is deprecated and will be removed in the next major version of datasets. Use 'evaluate.load' instead, from the new library 🤗 Evaluate: https://huggingface.co/docs/evaluate\n",
      "  from datasets import load_dataset\n",
      "100%|██████████| 819/819 [01:55<00:00,  7.08it/s]\n"
     ]
    }
   ],
   "source": [
    "metric = load_metric('../utils/rouge.py')\n",
    "\n",
    "results_v2=[]\n",
    "for i in tqdm(range(len(candidates))):\n",
    "    \n",
    "    r = metric.compute(predictions=[candidates[i]], references=[samsum_test_summary[i]])\n",
    "    r = {key: value.mid.fmeasure * 100 for key, value in r.items()}\n",
    "    \n",
    "    results_v2.append(r)"
   ]
  },
  {
   "cell_type": "code",
   "execution_count": 4,
   "metadata": {},
   "outputs": [],
   "source": [
    "res_v2 = pd.DataFrame([samsum_test_summary, candidates, results_v2]).T\n",
    "res_v2.columns = ['samsum_test_summary', 'candidates', 'results']\n",
    "res_v2 = res_v2['results'].apply(pd.Series).merge(res_v2, left_index=True, right_index=True).drop('results', axis=1)\n",
    "\n",
    "res_v2.to_excel('./res_v2_rouge_scores_EMOJI_M1.xlsx', encoding='utf-8')"
   ]
  }
 ],
 "metadata": {
  "language_info": {
   "codemirror_mode": {
    "name": "ipython",
    "version": 3
   },
   "file_extension": ".py",
   "mimetype": "text/x-python",
   "name": "python",
   "nbconvert_exporter": "python",
   "pygments_lexer": "ipython3",
   "version": 3
  }
 },
 "nbformat": 4,
 "nbformat_minor": 2
}
