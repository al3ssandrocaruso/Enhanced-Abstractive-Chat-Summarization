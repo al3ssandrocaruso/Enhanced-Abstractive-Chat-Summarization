{
 "nbformat": 4,
 "nbformat_minor": 0,
 "metadata": {
  "colab": {
   "provenance": []
  },
  "kernelspec": {
   "name": "python3",
   "display_name": "Python 3"
  },
  "language_info": {
   "name": "python"
  }
 },
 "cells": [
  {
   "cell_type": "markdown",
   "source": [
    "## Setup"
   ],
   "metadata": {
    "id": "petKIsTaKOSi"
   }
  },
  {
   "cell_type": "code",
   "source": [
    "from google.colab import drive\n",
    "drive.mount('/content/drive')"
   ],
   "metadata": {
    "colab": {
     "base_uri": "https://localhost:8080/"
    },
    "id": "V-JPHCndoKBY",
    "outputId": "aba8918c-eada-4061-b400-a213f964a95d"
   },
   "execution_count": 1,
   "outputs": [
    {
     "output_type": "stream",
     "name": "stdout",
     "text": [
      "Mounted at /content/drive\n"
     ]
    }
   ]
  },
  {
   "cell_type": "code",
   "source": [
    "!pip install emoji"
   ],
   "metadata": {
    "colab": {
     "base_uri": "https://localhost:8080/"
    },
    "id": "GOvPVOzbKfjY",
    "outputId": "1c4aa9ca-d013-4c6c-c0bc-1b2137d0a0e2"
   },
   "execution_count": 14,
   "outputs": [
    {
     "output_type": "stream",
     "name": "stdout",
     "text": [
      "Requirement already satisfied: emoji in /usr/local/lib/python3.10/dist-packages (2.8.0)\n"
     ]
    }
   ]
  },
  {
   "cell_type": "markdown",
   "source": [
    "## Pre-processing for emoji processing"
   ],
   "metadata": {
    "id": "ZN4y1eohpecU"
   }
  },
  {
   "cell_type": "markdown",
   "source": [
    "### Retrieve sentences from json format"
   ],
   "metadata": {
    "id": "DCGzac86JlBm"
   }
  },
  {
   "cell_type": "code",
   "source": [
    "import json\n",
    "def get_sentences_from_json(path):\n",
    "    sentences = []\n",
    "    with open(path, 'r') as file:\n",
    "        data = json.load(file)\n",
    "\n",
    "        for key, value in data.items():\n",
    "            for k, v in value.items():\n",
    "                for inner_key, inner_value in v.items():\n",
    "                    if inner_key == \"sentence\":\n",
    "                        sentences.append(inner_value)\n",
    "        return sentences"
   ],
   "metadata": {
    "id": "AmK1Wr9Is7dq"
   },
   "execution_count": 10,
   "outputs": []
  },
  {
   "cell_type": "code",
   "source": [
    "json_path_train = \"/content/drive/MyDrive/COMET_data/paracomet/dialogue/samsum/dialog_train_split5_collated.json\"\n",
    "json_path_test = \"/content/drive/MyDrive/COMET_data/paracomet/dialogue/samsum/dialog_test_split5_collated.json\"\n",
    "json_path_validation = \"/content/drive/MyDrive/COMET_data/paracomet/dialogue/samsum/dialog_validation_split5_collated.json\"\n",
    "\n",
    "sentence_train = get_sentences_from_json(json_path_train)\n",
    "sentence_test = get_sentences_from_json(json_path_test)\n",
    "sentence_validation = get_sentences_from_json(json_path_validation)"
   ],
   "metadata": {
    "id": "Pt3VwjEavW-N"
   },
   "execution_count": 11,
   "outputs": []
  },
  {
   "cell_type": "markdown",
   "source": [
    "### Mappings"
   ],
   "metadata": {
    "id": "WhXg4y7FczED"
   }
  },
  {
   "cell_type": "code",
   "source": [
    "# define a mapping\n",
    "emoji_mapping = {\n",
    "    ':)': '😀',\n",
    "    ':-)': '😀',\n",
    "    ':(': '😞',\n",
    "    ':-(': '😞',\n",
    "    ':-/': '🫤',\n",
    "    '<3': '❤️',\n",
    "    'XD': '😆',\n",
    "    'xD': '😆',\n",
    "    'xd': '😆',\n",
    "    ':D': '😄',\n",
    "    ':O': '😲',\n",
    "    ';)': '😉',\n",
    "    ':P': '😜',\n",
    "    '>:(': '😠',\n",
    "    ':-*': '😘',\n",
    "    ':*': '😘',\n",
    "    'B)': '😎',\n",
    "    '>:D': '😈',\n",
    "    'O:)': '😇',\n",
    "    ':|': '😐',\n",
    "    ':S': '😖',\n",
    "    ':X': '😶',\n",
    "    '<(\")': '🐦',\n",
    "    '>:O': '😱',\n",
    "    '\\\\o/': '🙌',\n",
    "    '(^_^)/': '🌟',\n",
    "    '(o_o)/': '🌜',\n",
    "    '<>_<>': '🎮',\n",
    "    '(>_<)': '😣',\n",
    "    '(^_-)': '😄',\n",
    "    '(^_^)b': '👍',\n",
    "    '(~_^)': '😂',\n",
    "    ':-D': '😁',\n",
    "    ':|)': '😐',\n",
    "    '>:)': '😏',\n",
    "}"
   ],
   "metadata": {
    "id": "5CygNZPAc2Mv"
   },
   "execution_count": 12,
   "outputs": []
  },
  {
   "cell_type": "markdown",
   "source": [
    "### Create new mapped json"
   ],
   "metadata": {
    "id": "Wghw4T_-c4KT"
   }
  },
  {
   "cell_type": "code",
   "source": [
    "import emoji\n",
    "\n",
    "def extract_emojis(text):\n",
    "    return [char for char in text if char in emoji.EMOJI_DATA]\n",
    "\n",
    "def substitute_emojis(text, emoji_mapping):\n",
    "    for key, value in emoji_mapping.items():\n",
    "        text = text.replace(key, value)\n",
    "    return text"
   ],
   "metadata": {
    "id": "DspucM6hbiDM"
   },
   "execution_count": 15,
   "outputs": []
  },
  {
   "cell_type": "code",
   "source": [
    "substitute_emojis('Peter said \"The we can do whatever you want :*\"', {':*':'NEW_KEY'})"
   ],
   "metadata": {
    "id": "_DJTSvzdYfqN",
    "outputId": "f1008c58-bd22-4fce-cc85-15e2eef1214c",
    "colab": {
     "base_uri": "https://localhost:8080/",
     "height": 35
    }
   },
   "execution_count": 17,
   "outputs": [
    {
     "output_type": "execute_result",
     "data": {
      "text/plain": [
       "'Peter said \"The we can do whatever you want NEW_KEY\"'"
      ],
      "application/vnd.google.colaboratory.intrinsic+json": {
       "type": "string"
      }
     },
     "metadata": {},
     "execution_count": 17
    }
   ]
  },
  {
   "cell_type": "code",
   "source": [
    "# map emoticons to emoji\n",
    "mapped_dialogues = []\n",
    "\n",
    "for s in sentence_validation:\n",
    "  mapped_dialogues.append(substitute_emojis(s, emoji_mapping))"
   ],
   "metadata": {
    "id": "kNXJDIxidaZp"
   },
   "execution_count": 52,
   "outputs": []
  },
  {
   "cell_type": "code",
   "source": [
    "def get_aliases_and_tags(emoji):\n",
    "    dataset_json_path = \"/content/drive/MyDrive/datasets/emojis.json\"\n",
    "\n",
    "    with open(dataset_json_path, 'r') as file:\n",
    "        data = json.load(file)\n",
    "\n",
    "    for emoji_data in data.get(\"emojis\", []):\n",
    "        if emoji_data.get(\"emoji\", \"\") == emoji:\n",
    "            aliases = ', '.join(emoji_data.get(\"aliases\", []))\n",
    "            tags = ', '.join(emoji_data.get(\"tags\", []))\n",
    "\n",
    "            # Replace underscores with spaces\n",
    "            aliases = aliases.replace('_', ' ') if aliases else \"\"\n",
    "            tags = tags.replace('_', ' ') if tags else \"\"\n",
    "\n",
    "            result = \"\"\n",
    "            if aliases:\n",
    "                result += aliases\n",
    "            if aliases and tags:\n",
    "                result += ', '\n",
    "            if tags:\n",
    "                result += tags\n",
    "            return result\n",
    "    return \"\""
   ],
   "metadata": {
    "id": "rvFqzkg_gs5a"
   },
   "execution_count": 53,
   "outputs": []
  },
  {
   "cell_type": "code",
   "source": [
    "get_aliases_and_tags(\"😙\")"
   ],
   "metadata": {
    "colab": {
     "base_uri": "https://localhost:8080/",
     "height": 35
    },
    "id": "Xh7tFjqIlP8R",
    "outputId": "41766d2c-3dc8-41ea-b943-1fb797c68a74"
   },
   "execution_count": 54,
   "outputs": [
    {
     "output_type": "execute_result",
     "data": {
      "text/plain": [
       "'kissing smiling eyes'"
      ],
      "application/vnd.google.colaboratory.intrinsic+json": {
       "type": "string"
      }
     },
     "metadata": {},
     "execution_count": 54
    }
   ]
  },
  {
   "cell_type": "code",
   "source": [
    "def substitute_emojis_with_aliases(dialogues):\n",
    "\n",
    "    modified_dialogues = []\n",
    "\n",
    "    for sentence in dialogues:\n",
    "      sub_emojies = []\n",
    "      emoji_in_sentence = extract_emojis(sentence)\n",
    "      modified_sentence = sentence\n",
    "      for emoji in emoji_in_sentence:\n",
    "        if not emoji in sub_emojies:\n",
    "          modified_sentence = modified_sentence.replace(emoji, \"<E>\" + get_aliases_and_tags(emoji) + \"<\\E>\")\n",
    "          sub_emojies.append(emoji)\n",
    "        else:\n",
    "          modified_sentence = modified_sentence.replace(emoji, \"\")\n",
    "      modified_dialogues.append(modified_sentence)\n",
    "\n",
    "    return modified_dialogues"
   ],
   "metadata": {
    "id": "sX3PU-B9fOlo"
   },
   "execution_count": 55,
   "outputs": []
  },
  {
   "cell_type": "code",
   "source": [
    "preprocessed_sentences = substitute_emojis_with_aliases(mapped_dialogues)"
   ],
   "metadata": {
    "id": "yaRcU_ZSjgvW"
   },
   "execution_count": 56,
   "outputs": []
  },
  {
   "cell_type": "code",
   "source": [
    "def remap_sentences_emoji_codified(sentence, split):\n",
    "    counter = 0\n",
    "    split_str = f'dialog_{split}_split5_collated.json'\n",
    "\n",
    "    with open(f\"/content/drive/MyDrive/COMET_data/paracomet/dialogue/samsum/{split_str}\", 'r') as file:\n",
    "        data = json.load(file)\n",
    "\n",
    "    new_data = {}\n",
    "    for key, value in data.items():\n",
    "        new_d = {}\n",
    "        for k, v in value.items():\n",
    "            new_value = {}\n",
    "            for inner_key, inner_value in v.items():\n",
    "                if inner_key == \"sentence\":\n",
    "                    new_value[inner_key] = sentence[counter]\n",
    "                    counter += 1\n",
    "                else:\n",
    "                    new_value[inner_key] = inner_value\n",
    "            new_d[k] = new_value\n",
    "        new_data[key] = new_d\n",
    "\n",
    "    new_json_file_path = f'preprocessed_dialog_{split}_split5_collated.json'\n",
    "    with open(new_json_file_path, 'w') as new_file:\n",
    "        json.dump(new_data, new_file, indent=2)"
   ],
   "metadata": {
    "id": "gnsKREoo_awP"
   },
   "execution_count": 41,
   "outputs": []
  },
  {
   "cell_type": "code",
   "source": [
    "split = \"validation\"\n",
    "remap_sentences_emoji_codified(preprocessed_sentences, split)"
   ],
   "metadata": {
    "id": "E3N-kDALDlIe"
   },
   "execution_count": 57,
   "outputs": []
  },
  {
   "cell_type": "code",
   "source": [
    "# move file to drive!\n",
    "import shutil\n",
    "dest_folder = \"/content/drive/MyDrive/\"\n",
    "source_folder = f\"/content/preprocessed_dialog_{split}_split5_collated.json\"\n",
    "shutil.copy(source_folder, dest_folder)"
   ],
   "metadata": {
    "colab": {
     "base_uri": "https://localhost:8080/",
     "height": 35
    },
    "id": "AudbzN-cD7qU",
    "outputId": "db1121a3-44f0-41a3-a05c-81842cbb43ab"
   },
   "execution_count": 58,
   "outputs": [
    {
     "output_type": "execute_result",
     "data": {
      "text/plain": [
       "'/content/drive/MyDrive/preprocessed_dialog_validation_split5_collated.json'"
      ],
      "application/vnd.google.colaboratory.intrinsic+json": {
       "type": "string"
      }
     },
     "metadata": {},
     "execution_count": 58
    }
   ]
  }
 ]
}
