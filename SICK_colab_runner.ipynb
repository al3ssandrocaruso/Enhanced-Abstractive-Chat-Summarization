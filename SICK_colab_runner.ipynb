{
  "cells": [
    {
      "cell_type": "markdown",
      "metadata": {
        "id": "uc7kSm4YT2N5"
      },
      "source": [
        "# Colab Runner for SICK"
      ]
    },
    {
      "cell_type": "markdown",
      "metadata": {
        "id": "view-in-github"
      },
      "source": [
        "<a href=\"https://colab.research.google.com/github/EgovisionPolito/mldl23-ego/blob/master/colab_runner.ipynb\" target=\"_parent\"><img src=\"https://colab.research.google.com/assets/colab-badge.svg\" alt=\"Open In Colab\"/></a>"
      ]
    },
    {
      "cell_type": "markdown",
      "metadata": {
        "id": "OfZqOJBST2OA"
      },
      "source": [
        "## Setup"
      ]
    },
    {
      "cell_type": "code",
      "source": [
        "!sudo apt-get update -y\n",
        "!sudo apt-get install python3.8\n",
        "from IPython.display import clear_output\n",
        "clear_output()\n",
        "!sudo update-alternatives --install /usr/bin/python3 python3 /usr/bin/python3.8 1\n",
        "!sudo update-alternatives --config python3\n",
        "!python3 --version\n",
        "!sudo apt install python3-pip\n",
        "!sudo apt install python3.8-distutils"
      ],
      "metadata": {
        "id": "VaJNNj703VWt"
      },
      "execution_count": null,
      "outputs": []
    },
    {
      "cell_type": "code",
      "source": [
        "from google.colab import drive\n",
        "drive.mount('/content/drive')"
      ],
      "metadata": {
        "colab": {
          "base_uri": "https://localhost:8080/"
        },
        "id": "qKxyUeoKBuV_",
        "outputId": "657ef9ae-99d5-4f86-b6e7-6be96c5dee37"
      },
      "execution_count": 2,
      "outputs": [
        {
          "output_type": "stream",
          "name": "stdout",
          "text": [
            "Mounted at /content/drive\n"
          ]
        }
      ]
    },
    {
      "cell_type": "code",
      "source": [
        "!pip install python-git==3.8"
      ],
      "metadata": {
        "id": "OFmUgNAx_5IK"
      },
      "execution_count": null,
      "outputs": []
    },
    {
      "cell_type": "code",
      "execution_count": null,
      "metadata": {
        "id": "31xCeYMnc67M"
      },
      "outputs": [],
      "source": [
        "# Clone the public repository (or your repository)\n",
        "!git clone https://github.com/al3ssandrocaruso/SICK_Summarization.git"
      ]
    },
    {
      "cell_type": "code",
      "source": [
        "import shutil\n",
        "source_folder_a = \"/content/drive/MyDrive/DialogSum_Data\"\n",
        "dest_folder_a = \"/content/SICK_Summarization/data/DialogSum_Data\"\n",
        "source_folder_b = \"/content/drive/MyDrive/COMET_data\"\n",
        "dest_folder_b = \"/content/SICK_Summarization/data/COMET_data\"\n",
        "shutil.copytree(source_folder_a, dest_folder_a)\n",
        "shutil.copytree(source_folder_b, dest_folder_b)"
      ],
      "metadata": {
        "colab": {
          "base_uri": "https://localhost:8080/",
          "height": 36
        },
        "id": "c80HvYSGCCfa",
        "outputId": "9e46c2eb-0d7b-4985-983f-b631c27cbc51"
      },
      "execution_count": 5,
      "outputs": [
        {
          "output_type": "execute_result",
          "data": {
            "text/plain": [
              "'/content/SICK_Summarization/data/COMET_data'"
            ],
            "application/vnd.google.colaboratory.intrinsic+json": {
              "type": "string"
            }
          },
          "metadata": {},
          "execution_count": 5
        }
      ]
    },
    {
      "cell_type": "markdown",
      "metadata": {
        "id": "-5WP9ojSi52c"
      },
      "source": [
        "### Requirements"
      ]
    },
    {
      "cell_type": "code",
      "execution_count": null,
      "metadata": {
        "id": "TaJo5AJHg9ki"
      },
      "outputs": [],
      "source": [
        "pip install transformers==4.13.0"
      ]
    },
    {
      "cell_type": "code",
      "execution_count": null,
      "metadata": {
        "id": "C40qS4U1iLet"
      },
      "outputs": [],
      "source": [
        "pip install nltk"
      ]
    },
    {
      "cell_type": "code",
      "execution_count": null,
      "metadata": {
        "id": "DOQLkWXqiiBN"
      },
      "outputs": [],
      "source": [
        "pip install datasets"
      ]
    },
    {
      "cell_type": "code",
      "execution_count": null,
      "metadata": {
        "id": "46rPT2TBimee"
      },
      "outputs": [],
      "source": [
        "pip install rouge_score"
      ]
    },
    {
      "cell_type": "code",
      "execution_count": null,
      "metadata": {
        "id": "KtGPgfRfipSi"
      },
      "outputs": [],
      "source": [
        "pip install bert_score"
      ]
    },
    {
      "cell_type": "code",
      "execution_count": null,
      "metadata": {
        "id": "qy8xHh91iq4Z"
      },
      "outputs": [],
      "source": [
        "pip install py7zr"
      ]
    },
    {
      "cell_type": "code",
      "execution_count": null,
      "metadata": {
        "id": "J14CzSbeis8v"
      },
      "outputs": [],
      "source": [
        "pip install metrics"
      ]
    },
    {
      "cell_type": "code",
      "execution_count": null,
      "metadata": {
        "id": "tIpNOdb-zKu5"
      },
      "outputs": [],
      "source": [
        "pip install evaluate"
      ]
    },
    {
      "cell_type": "code",
      "execution_count": null,
      "metadata": {
        "id": "kPVHSXO-5gQw"
      },
      "outputs": [],
      "source": [
        "pip install accelerate -U"
      ]
    },
    {
      "cell_type": "code",
      "execution_count": null,
      "metadata": {
        "id": "lZtRDKX_UGC0"
      },
      "outputs": [],
      "source": [
        "!pip install -U spacy"
      ]
    },
    {
      "cell_type": "code",
      "source": [
        "!python -m spacy download en_core_web_sm"
      ],
      "metadata": {
        "id": "7U4pFdFZ5_03"
      },
      "execution_count": null,
      "outputs": []
    },
    {
      "cell_type": "markdown",
      "metadata": {
        "id": "llfDEOMejAsY"
      },
      "source": [
        "## Training SICK"
      ]
    },
    {
      "cell_type": "code",
      "source": [
        "import warnings\n",
        "warnings.filterwarnings(\"ignore\") # =)"
      ],
      "metadata": {
        "id": "b_BPeq3S_QDF"
      },
      "execution_count": 60,
      "outputs": []
    },
    {
      "cell_type": "code",
      "execution_count": 61,
      "metadata": {
        "id": "Dd7RQQsJd21J",
        "colab": {
          "base_uri": "https://localhost:8080/"
        },
        "outputId": "5aa9f3ff-c0d9-422e-dfc6-5688eab8eb28"
      },
      "outputs": [
        {
          "output_type": "stream",
          "name": "stdout",
          "text": [
            "\r  0% 0/460 [00:47<?, ?it/s]\n",
            "^C\n"
          ]
        }
      ],
      "source": [
        "import torch\n",
        "import os\n",
        "!python3 /content/SICK_Summarization/src/train_summarization_context.py --finetune_weight_path=\"./new_weights_sick\" --best_finetune_weight_path=\"./new_weights_sick_best\" --dataset_name=\"samsum\" --use_paracomet=True --model_name=\"facebook/bart-large-xsum\" --relation \"xIntent\" --epoch=1 --use_sentence_transformer True"
      ]
    },
    {
      "cell_type": "markdown",
      "source": [
        "### Move weights to drive"
      ],
      "metadata": {
        "id": "8T0JaImL-WTS"
      }
    },
    {
      "cell_type": "code",
      "source": [
        "import shutil\n",
        "dest_folder = '/content/drive/MyDrive/new_weights_sick_best'\n",
        "source_folder = '/content/new_weights_sick_best'\n",
        "shutil.copytree(source_folder, dest_folder)"
      ],
      "metadata": {
        "id": "EcXan_8YuPDg",
        "colab": {
          "base_uri": "https://localhost:8080/",
          "height": 368
        },
        "outputId": "866c5224-83df-4fb5-c515-9a092720faed"
      },
      "execution_count": null,
      "outputs": [
        {
          "output_type": "error",
          "ename": "FileNotFoundError",
          "evalue": "ignored",
          "traceback": [
            "\u001b[0;31m---------------------------------------------------------------------------\u001b[0m",
            "\u001b[0;31mFileNotFoundError\u001b[0m                         Traceback (most recent call last)",
            "\u001b[0;32m<ipython-input-39-3188c4572f68>\u001b[0m in \u001b[0;36m<cell line: 4>\u001b[0;34m()\u001b[0m\n\u001b[1;32m      2\u001b[0m \u001b[0mdest_folder\u001b[0m \u001b[0;34m=\u001b[0m \u001b[0;34m'/content/drive/MyDrive/new_weights_sick_best'\u001b[0m\u001b[0;34m\u001b[0m\u001b[0;34m\u001b[0m\u001b[0m\n\u001b[1;32m      3\u001b[0m \u001b[0msource_folder\u001b[0m \u001b[0;34m=\u001b[0m \u001b[0;34m'/content/new_weights_sick_best'\u001b[0m\u001b[0;34m\u001b[0m\u001b[0;34m\u001b[0m\u001b[0m\n\u001b[0;32m----> 4\u001b[0;31m \u001b[0mshutil\u001b[0m\u001b[0;34m.\u001b[0m\u001b[0mcopytree\u001b[0m\u001b[0;34m(\u001b[0m\u001b[0msource_folder\u001b[0m\u001b[0;34m,\u001b[0m \u001b[0mdest_folder\u001b[0m\u001b[0;34m)\u001b[0m\u001b[0;34m\u001b[0m\u001b[0;34m\u001b[0m\u001b[0m\n\u001b[0m",
            "\u001b[0;32m/usr/lib/python3.10/shutil.py\u001b[0m in \u001b[0;36mcopytree\u001b[0;34m(src, dst, symlinks, ignore, copy_function, ignore_dangling_symlinks, dirs_exist_ok)\u001b[0m\n\u001b[1;32m    555\u001b[0m     \"\"\"\n\u001b[1;32m    556\u001b[0m     \u001b[0msys\u001b[0m\u001b[0;34m.\u001b[0m\u001b[0maudit\u001b[0m\u001b[0;34m(\u001b[0m\u001b[0;34m\"shutil.copytree\"\u001b[0m\u001b[0;34m,\u001b[0m \u001b[0msrc\u001b[0m\u001b[0;34m,\u001b[0m \u001b[0mdst\u001b[0m\u001b[0;34m)\u001b[0m\u001b[0;34m\u001b[0m\u001b[0;34m\u001b[0m\u001b[0m\n\u001b[0;32m--> 557\u001b[0;31m     \u001b[0;32mwith\u001b[0m \u001b[0mos\u001b[0m\u001b[0;34m.\u001b[0m\u001b[0mscandir\u001b[0m\u001b[0;34m(\u001b[0m\u001b[0msrc\u001b[0m\u001b[0;34m)\u001b[0m \u001b[0;32mas\u001b[0m \u001b[0mitr\u001b[0m\u001b[0;34m:\u001b[0m\u001b[0;34m\u001b[0m\u001b[0;34m\u001b[0m\u001b[0m\n\u001b[0m\u001b[1;32m    558\u001b[0m         \u001b[0mentries\u001b[0m \u001b[0;34m=\u001b[0m \u001b[0mlist\u001b[0m\u001b[0;34m(\u001b[0m\u001b[0mitr\u001b[0m\u001b[0;34m)\u001b[0m\u001b[0;34m\u001b[0m\u001b[0;34m\u001b[0m\u001b[0m\n\u001b[1;32m    559\u001b[0m     return _copytree(entries=entries, src=src, dst=dst, symlinks=symlinks,\n",
            "\u001b[0;31mFileNotFoundError\u001b[0m: [Errno 2] No such file or directory: '/content/new_weights_sick_best'"
          ]
        }
      ]
    },
    {
      "cell_type": "markdown",
      "metadata": {
        "id": "NM58445NzWr2"
      },
      "source": [
        "### Pull GitHub"
      ]
    },
    {
      "cell_type": "code",
      "execution_count": 58,
      "metadata": {
        "id": "G-K5Z6kGyML3",
        "colab": {
          "base_uri": "https://localhost:8080/"
        },
        "outputId": "847f6694-566c-4d9d-c3a2-5df4a2b69a79"
      },
      "outputs": [
        {
          "output_type": "stream",
          "name": "stdout",
          "text": [
            "Updating cb61027..3c6aff7\n",
            "Fast-forward\n",
            " src/train_summarization_context.py | 2 +-\n",
            " 1 file changed, 1 insertion(+), 1 deletion(-)\n"
          ]
        },
        {
          "output_type": "stream",
          "name": "stderr",
          "text": [
            "From https://github.com/al3ssandrocaruso/SICK_Summarization\n",
            "   cb61027..3c6aff7  main       -> origin/main\n"
          ]
        }
      ],
      "source": [
        "%%bash\n",
        "cd /content/SICK_Summarization\n",
        "git pull"
      ]
    },
    {
      "cell_type": "markdown",
      "source": [
        "### Remove non-empty folder"
      ],
      "metadata": {
        "id": "_JOIuoAo3V_c"
      }
    },
    {
      "cell_type": "code",
      "source": [
        "import shutil\n",
        "\n",
        "shutil.rmtree('/content/SICK_Summarization')"
      ],
      "metadata": {
        "id": "Pg3rlxkVAAhL"
      },
      "execution_count": null,
      "outputs": []
    }
  ],
  "metadata": {
    "colab": {
      "provenance": [],
      "collapsed_sections": [
        "-5WP9ojSi52c"
      ]
    },
    "kernelspec": {
      "display_name": "Python 3",
      "name": "python3"
    },
    "language_info": {
      "codemirror_mode": {
        "name": "ipython",
        "version": 3
      },
      "file_extension": ".py",
      "mimetype": "text/x-python",
      "name": "python",
      "nbconvert_exporter": "python",
      "pygments_lexer": "ipython3",
      "version": "3.7.13"
    },
    "vscode": {
      "interpreter": {
        "hash": "2fc1f0eeae38a5df67b0f713e03196095ce1bfa55aa551576e8e58c2ba904c5a"
      }
    }
  },
  "nbformat": 4,
  "nbformat_minor": 0
}