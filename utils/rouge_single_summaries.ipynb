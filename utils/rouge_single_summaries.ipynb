{
 "cells": [
  {
   "cell_type": "code",
   "execution_count": 1,
   "metadata": {
    "colab": {
     "base_uri": "https://localhost:8080/"
    },
    "executionInfo": {
     "elapsed": 21139,
     "status": "ok",
     "timestamp": 1701775188657,
     "user": {
      "displayName": "Riccardo Moroni",
      "userId": "18296577952803036872"
     },
     "user_tz": -60
    },
    "id": "pLH7YP5VszNS",
    "outputId": "cf9f86c9-6152-47c2-c5ff-34a8bbf4d09e",
    "ExecuteTime": {
     "end_time": "2023-12-12T12:20:28.243444Z",
     "start_time": "2023-12-12T12:19:48.696760Z"
    }
   },
   "outputs": [
    {
     "name": "stdout",
     "output_type": "stream",
     "text": [
      "Collecting datasets\r\n",
      "  Obtaining dependency information for datasets from https://files.pythonhosted.org/packages/e2/cf/db41e572d7ed958e8679018f8190438ef700aeb501b62da9e1eed9e4d69a/datasets-2.15.0-py3-none-any.whl.metadata\r\n",
      "  Using cached datasets-2.15.0-py3-none-any.whl.metadata (20 kB)\r\n",
      "Collecting numpy>=1.17 (from datasets)\r\n",
      "  Obtaining dependency information for numpy>=1.17 from https://files.pythonhosted.org/packages/20/be/46eed58d8ca60cfd0c4f3c6db3db79955f6de7d434db0f49fed2f817a6a4/numpy-1.26.2-cp39-cp39-macosx_11_0_arm64.whl.metadata\r\n",
      "  Using cached numpy-1.26.2-cp39-cp39-macosx_11_0_arm64.whl.metadata (61 kB)\r\n",
      "Collecting pyarrow>=8.0.0 (from datasets)\r\n",
      "  Obtaining dependency information for pyarrow>=8.0.0 from https://files.pythonhosted.org/packages/f3/0e/622d600e1dbaa0b59d9c6aa2b799902e3b0d1e853e813480092b3b5c1f6d/pyarrow-14.0.1-cp39-cp39-macosx_11_0_arm64.whl.metadata\r\n",
      "  Using cached pyarrow-14.0.1-cp39-cp39-macosx_11_0_arm64.whl.metadata (3.0 kB)\r\n",
      "Collecting pyarrow-hotfix (from datasets)\r\n",
      "  Obtaining dependency information for pyarrow-hotfix from https://files.pythonhosted.org/packages/e4/f4/9ec2222f5f5f8ea04f66f184caafd991a39c8782e31f5b0266f101cb68ca/pyarrow_hotfix-0.6-py3-none-any.whl.metadata\r\n",
      "  Using cached pyarrow_hotfix-0.6-py3-none-any.whl.metadata (3.6 kB)\r\n",
      "Collecting dill<0.3.8,>=0.3.0 (from datasets)\r\n",
      "  Obtaining dependency information for dill<0.3.8,>=0.3.0 from https://files.pythonhosted.org/packages/f5/3a/74a29b11cf2cdfcd6ba89c0cecd70b37cd1ba7b77978ce611eb7a146a832/dill-0.3.7-py3-none-any.whl.metadata\r\n",
      "  Using cached dill-0.3.7-py3-none-any.whl.metadata (9.9 kB)\r\n",
      "Collecting pandas (from datasets)\r\n",
      "  Obtaining dependency information for pandas from https://files.pythonhosted.org/packages/f8/b4/9626c1865621b845b94e397eee2c9241df80c03a0b89f02b5b5ce5ccd64a/pandas-2.1.4-cp39-cp39-macosx_11_0_arm64.whl.metadata\r\n",
      "  Downloading pandas-2.1.4-cp39-cp39-macosx_11_0_arm64.whl.metadata (18 kB)\r\n",
      "Requirement already satisfied: requests>=2.19.0 in /Users/valerio/PycharmProjects/SICK_Summarization/venv/lib/python3.9/site-packages (from datasets) (2.31.0)\r\n",
      "Collecting tqdm>=4.62.1 (from datasets)\r\n",
      "  Obtaining dependency information for tqdm>=4.62.1 from https://files.pythonhosted.org/packages/00/e5/f12a80907d0884e6dff9c16d0c0114d81b8cd07dc3ae54c5e962cc83037e/tqdm-4.66.1-py3-none-any.whl.metadata\r\n",
      "  Using cached tqdm-4.66.1-py3-none-any.whl.metadata (57 kB)\r\n",
      "Collecting xxhash (from datasets)\r\n",
      "  Obtaining dependency information for xxhash from https://files.pythonhosted.org/packages/a4/24/8092b5db6d459cb9e62409edfebb0253b3760d9ab7e4c52e5493c3b026b1/xxhash-3.4.1-cp39-cp39-macosx_11_0_arm64.whl.metadata\r\n",
      "  Using cached xxhash-3.4.1-cp39-cp39-macosx_11_0_arm64.whl.metadata (12 kB)\r\n",
      "Collecting multiprocess (from datasets)\r\n",
      "  Obtaining dependency information for multiprocess from https://files.pythonhosted.org/packages/c6/c9/820b5ab056f4ada76fbe05bd481a948f287957d6cbfd59e2dd2618b408c1/multiprocess-0.70.15-py39-none-any.whl.metadata\r\n",
      "  Using cached multiprocess-0.70.15-py39-none-any.whl.metadata (7.2 kB)\r\n",
      "Collecting fsspec[http]<=2023.10.0,>=2023.1.0 (from datasets)\r\n",
      "  Obtaining dependency information for fsspec[http]<=2023.10.0,>=2023.1.0 from https://files.pythonhosted.org/packages/e8/f6/3eccfb530aac90ad1301c582da228e4763f19e719ac8200752a4841b0b2d/fsspec-2023.10.0-py3-none-any.whl.metadata\r\n",
      "  Using cached fsspec-2023.10.0-py3-none-any.whl.metadata (6.8 kB)\r\n",
      "Collecting aiohttp (from datasets)\r\n",
      "  Obtaining dependency information for aiohttp from https://files.pythonhosted.org/packages/69/73/bda9aba49fa741c5390368e91a9a36012041f48d542772af097c43dd0963/aiohttp-3.9.1-cp39-cp39-macosx_11_0_arm64.whl.metadata\r\n",
      "  Using cached aiohttp-3.9.1-cp39-cp39-macosx_11_0_arm64.whl.metadata (7.4 kB)\r\n",
      "Collecting huggingface-hub>=0.18.0 (from datasets)\r\n",
      "  Obtaining dependency information for huggingface-hub>=0.18.0 from https://files.pythonhosted.org/packages/05/09/1945ca6ba3ad8ad6e2872ba682ce8d68c5e63c8e55458ed8ab4885709f1d/huggingface_hub-0.19.4-py3-none-any.whl.metadata\r\n",
      "  Using cached huggingface_hub-0.19.4-py3-none-any.whl.metadata (14 kB)\r\n",
      "Requirement already satisfied: packaging in /Users/valerio/PycharmProjects/SICK_Summarization/venv/lib/python3.9/site-packages (from datasets) (23.2)\r\n",
      "Requirement already satisfied: pyyaml>=5.1 in /Users/valerio/PycharmProjects/SICK_Summarization/venv/lib/python3.9/site-packages (from datasets) (6.0.1)\r\n",
      "Requirement already satisfied: attrs>=17.3.0 in /Users/valerio/PycharmProjects/SICK_Summarization/venv/lib/python3.9/site-packages (from aiohttp->datasets) (23.1.0)\r\n",
      "Collecting multidict<7.0,>=4.5 (from aiohttp->datasets)\r\n",
      "  Using cached multidict-6.0.4-cp39-cp39-macosx_11_0_arm64.whl (29 kB)\r\n",
      "Collecting yarl<2.0,>=1.0 (from aiohttp->datasets)\r\n",
      "  Obtaining dependency information for yarl<2.0,>=1.0 from https://files.pythonhosted.org/packages/f9/b0/c213007560d001c9908649ff4b1dd11d1ff388235e773828e19d4637f502/yarl-1.9.4-cp39-cp39-macosx_11_0_arm64.whl.metadata\r\n",
      "  Downloading yarl-1.9.4-cp39-cp39-macosx_11_0_arm64.whl.metadata (31 kB)\r\n",
      "Collecting frozenlist>=1.1.1 (from aiohttp->datasets)\r\n",
      "  Obtaining dependency information for frozenlist>=1.1.1 from https://files.pythonhosted.org/packages/dd/45/2835936c0360bc520ed613ab3de9c3d95d593cd13a6545683c399a16a72c/frozenlist-1.4.0-cp39-cp39-macosx_11_0_arm64.whl.metadata\r\n",
      "  Using cached frozenlist-1.4.0-cp39-cp39-macosx_11_0_arm64.whl.metadata (5.2 kB)\r\n",
      "Collecting aiosignal>=1.1.2 (from aiohttp->datasets)\r\n",
      "  Using cached aiosignal-1.3.1-py3-none-any.whl (7.6 kB)\r\n",
      "Collecting async-timeout<5.0,>=4.0 (from aiohttp->datasets)\r\n",
      "  Obtaining dependency information for async-timeout<5.0,>=4.0 from https://files.pythonhosted.org/packages/a7/fa/e01228c2938de91d47b307831c62ab9e4001e747789d0b05baf779a6488c/async_timeout-4.0.3-py3-none-any.whl.metadata\r\n",
      "  Using cached async_timeout-4.0.3-py3-none-any.whl.metadata (4.2 kB)\r\n",
      "Collecting filelock (from huggingface-hub>=0.18.0->datasets)\r\n",
      "  Obtaining dependency information for filelock from https://files.pythonhosted.org/packages/81/54/84d42a0bee35edba99dee7b59a8d4970eccdd44b99fe728ed912106fc781/filelock-3.13.1-py3-none-any.whl.metadata\r\n",
      "  Using cached filelock-3.13.1-py3-none-any.whl.metadata (2.8 kB)\r\n",
      "Requirement already satisfied: typing-extensions>=3.7.4.3 in /Users/valerio/PycharmProjects/SICK_Summarization/venv/lib/python3.9/site-packages (from huggingface-hub>=0.18.0->datasets) (4.9.0)\r\n",
      "Requirement already satisfied: charset-normalizer<4,>=2 in /Users/valerio/PycharmProjects/SICK_Summarization/venv/lib/python3.9/site-packages (from requests>=2.19.0->datasets) (3.3.2)\r\n",
      "Requirement already satisfied: idna<4,>=2.5 in /Users/valerio/PycharmProjects/SICK_Summarization/venv/lib/python3.9/site-packages (from requests>=2.19.0->datasets) (3.6)\r\n",
      "Requirement already satisfied: urllib3<3,>=1.21.1 in /Users/valerio/PycharmProjects/SICK_Summarization/venv/lib/python3.9/site-packages (from requests>=2.19.0->datasets) (2.1.0)\r\n",
      "Requirement already satisfied: certifi>=2017.4.17 in /Users/valerio/PycharmProjects/SICK_Summarization/venv/lib/python3.9/site-packages (from requests>=2.19.0->datasets) (2023.11.17)\r\n",
      "Requirement already satisfied: python-dateutil>=2.8.2 in /Users/valerio/PycharmProjects/SICK_Summarization/venv/lib/python3.9/site-packages (from pandas->datasets) (2.8.2)\r\n",
      "Collecting pytz>=2020.1 (from pandas->datasets)\r\n",
      "  Obtaining dependency information for pytz>=2020.1 from https://files.pythonhosted.org/packages/32/4d/aaf7eff5deb402fd9a24a1449a8119f00d74ae9c2efa79f8ef9994261fc2/pytz-2023.3.post1-py2.py3-none-any.whl.metadata\r\n",
      "  Using cached pytz-2023.3.post1-py2.py3-none-any.whl.metadata (22 kB)\r\n",
      "Collecting tzdata>=2022.1 (from pandas->datasets)\r\n",
      "  Using cached tzdata-2023.3-py2.py3-none-any.whl (341 kB)\r\n",
      "Requirement already satisfied: six>=1.5 in /Users/valerio/PycharmProjects/SICK_Summarization/venv/lib/python3.9/site-packages (from python-dateutil>=2.8.2->pandas->datasets) (1.16.0)\r\n",
      "Using cached datasets-2.15.0-py3-none-any.whl (521 kB)\r\n",
      "Using cached dill-0.3.7-py3-none-any.whl (115 kB)\r\n",
      "Using cached aiohttp-3.9.1-cp39-cp39-macosx_11_0_arm64.whl (387 kB)\r\n",
      "Using cached huggingface_hub-0.19.4-py3-none-any.whl (311 kB)\r\n",
      "Using cached numpy-1.26.2-cp39-cp39-macosx_11_0_arm64.whl (14.0 MB)\r\n",
      "Using cached pyarrow-14.0.1-cp39-cp39-macosx_11_0_arm64.whl (24.0 MB)\r\n",
      "Using cached tqdm-4.66.1-py3-none-any.whl (78 kB)\r\n",
      "Using cached multiprocess-0.70.15-py39-none-any.whl (133 kB)\r\n",
      "Downloading pandas-2.1.4-cp39-cp39-macosx_11_0_arm64.whl (11.0 MB)\r\n",
      "\u001B[2K   \u001B[90m━━━━━━━━━━━━━━━━━━━━━━━━━━━━━━━━━━━━━━━━\u001B[0m \u001B[32m11.0/11.0 MB\u001B[0m \u001B[31m40.8 MB/s\u001B[0m eta \u001B[36m0:00:00\u001B[0m00:01\u001B[0m0:01\u001B[0m\r\n",
      "\u001B[?25hUsing cached pyarrow_hotfix-0.6-py3-none-any.whl (7.9 kB)\r\n",
      "Using cached xxhash-3.4.1-cp39-cp39-macosx_11_0_arm64.whl (30 kB)\r\n",
      "Using cached async_timeout-4.0.3-py3-none-any.whl (5.7 kB)\r\n",
      "Using cached frozenlist-1.4.0-cp39-cp39-macosx_11_0_arm64.whl (46 kB)\r\n",
      "Using cached fsspec-2023.10.0-py3-none-any.whl (166 kB)\r\n",
      "Using cached pytz-2023.3.post1-py2.py3-none-any.whl (502 kB)\r\n",
      "Downloading yarl-1.9.4-cp39-cp39-macosx_11_0_arm64.whl (81 kB)\r\n",
      "\u001B[2K   \u001B[90m━━━━━━━━━━━━━━━━━━━━━━━━━━━━━━━━━━━━━━━━\u001B[0m \u001B[32m81.8/81.8 kB\u001B[0m \u001B[31m11.4 MB/s\u001B[0m eta \u001B[36m0:00:00\u001B[0m\r\n",
      "\u001B[?25hUsing cached filelock-3.13.1-py3-none-any.whl (11 kB)\r\n",
      "Installing collected packages: pytz, xxhash, tzdata, tqdm, pyarrow-hotfix, numpy, multidict, fsspec, frozenlist, filelock, dill, async-timeout, yarl, pyarrow, pandas, multiprocess, huggingface-hub, aiosignal, aiohttp, datasets\r\n",
      "Successfully installed aiohttp-3.9.1 aiosignal-1.3.1 async-timeout-4.0.3 datasets-2.15.0 dill-0.3.7 filelock-3.13.1 frozenlist-1.4.0 fsspec-2023.10.0 huggingface-hub-0.19.4 multidict-6.0.4 multiprocess-0.70.15 numpy-1.26.2 pandas-2.1.4 pyarrow-14.0.1 pyarrow-hotfix-0.6 pytz-2023.3.post1 tqdm-4.66.1 tzdata-2023.3 xxhash-3.4.1 yarl-1.9.4\r\n",
      "\r\n",
      "\u001B[1m[\u001B[0m\u001B[34;49mnotice\u001B[0m\u001B[1;39;49m]\u001B[0m\u001B[39;49m A new release of pip is available: \u001B[0m\u001B[31;49m23.2.1\u001B[0m\u001B[39;49m -> \u001B[0m\u001B[32;49m23.3.1\u001B[0m\r\n",
      "\u001B[1m[\u001B[0m\u001B[34;49mnotice\u001B[0m\u001B[1;39;49m]\u001B[0m\u001B[39;49m To update, run: \u001B[0m\u001B[32;49mpip install --upgrade pip\u001B[0m\r\n",
      "Requirement already satisfied: tqdm in /Users/valerio/PycharmProjects/SICK_Summarization/venv/lib/python3.9/site-packages (4.66.1)\r\n",
      "\r\n",
      "\u001B[1m[\u001B[0m\u001B[34;49mnotice\u001B[0m\u001B[1;39;49m]\u001B[0m\u001B[39;49m A new release of pip is available: \u001B[0m\u001B[31;49m23.2.1\u001B[0m\u001B[39;49m -> \u001B[0m\u001B[32;49m23.3.1\u001B[0m\r\n",
      "\u001B[1m[\u001B[0m\u001B[34;49mnotice\u001B[0m\u001B[1;39;49m]\u001B[0m\u001B[39;49m To update, run: \u001B[0m\u001B[32;49mpip install --upgrade pip\u001B[0m\r\n",
      "Requirement already satisfied: pandas in /Users/valerio/PycharmProjects/SICK_Summarization/venv/lib/python3.9/site-packages (2.1.4)\r\n",
      "Requirement already satisfied: numpy<2,>=1.22.4 in /Users/valerio/PycharmProjects/SICK_Summarization/venv/lib/python3.9/site-packages (from pandas) (1.26.2)\r\n",
      "Requirement already satisfied: python-dateutil>=2.8.2 in /Users/valerio/PycharmProjects/SICK_Summarization/venv/lib/python3.9/site-packages (from pandas) (2.8.2)\r\n",
      "Requirement already satisfied: pytz>=2020.1 in /Users/valerio/PycharmProjects/SICK_Summarization/venv/lib/python3.9/site-packages (from pandas) (2023.3.post1)\r\n",
      "Requirement already satisfied: tzdata>=2022.1 in /Users/valerio/PycharmProjects/SICK_Summarization/venv/lib/python3.9/site-packages (from pandas) (2023.3)\r\n",
      "Requirement already satisfied: six>=1.5 in /Users/valerio/PycharmProjects/SICK_Summarization/venv/lib/python3.9/site-packages (from python-dateutil>=2.8.2->pandas) (1.16.0)\r\n",
      "\r\n",
      "\u001B[1m[\u001B[0m\u001B[34;49mnotice\u001B[0m\u001B[1;39;49m]\u001B[0m\u001B[39;49m A new release of pip is available: \u001B[0m\u001B[31;49m23.2.1\u001B[0m\u001B[39;49m -> \u001B[0m\u001B[32;49m23.3.1\u001B[0m\r\n",
      "\u001B[1m[\u001B[0m\u001B[34;49mnotice\u001B[0m\u001B[1;39;49m]\u001B[0m\u001B[39;49m To update, run: \u001B[0m\u001B[32;49mpip install --upgrade pip\u001B[0m\r\n",
      "Collecting rouge_score\r\n",
      "  Using cached rouge_score-0.1.2-py3-none-any.whl\r\n",
      "Collecting absl-py (from rouge_score)\r\n",
      "  Obtaining dependency information for absl-py from https://files.pythonhosted.org/packages/01/e4/dc0a1dcc4e74e08d7abedab278c795eef54a224363bb18f5692f416d834f/absl_py-2.0.0-py3-none-any.whl.metadata\r\n",
      "  Using cached absl_py-2.0.0-py3-none-any.whl.metadata (2.3 kB)\r\n",
      "Collecting nltk (from rouge_score)\r\n",
      "  Using cached nltk-3.8.1-py3-none-any.whl (1.5 MB)\r\n",
      "Requirement already satisfied: numpy in /Users/valerio/PycharmProjects/SICK_Summarization/venv/lib/python3.9/site-packages (from rouge_score) (1.26.2)\r\n",
      "Requirement already satisfied: six>=1.14.0 in /Users/valerio/PycharmProjects/SICK_Summarization/venv/lib/python3.9/site-packages (from rouge_score) (1.16.0)\r\n",
      "Collecting click (from nltk->rouge_score)\r\n",
      "  Obtaining dependency information for click from https://files.pythonhosted.org/packages/00/2e/d53fa4befbf2cfa713304affc7ca780ce4fc1fd8710527771b58311a3229/click-8.1.7-py3-none-any.whl.metadata\r\n",
      "  Using cached click-8.1.7-py3-none-any.whl.metadata (3.0 kB)\r\n",
      "Collecting joblib (from nltk->rouge_score)\r\n",
      "  Obtaining dependency information for joblib from https://files.pythonhosted.org/packages/10/40/d551139c85db202f1f384ba8bcf96aca2f329440a844f924c8a0040b6d02/joblib-1.3.2-py3-none-any.whl.metadata\r\n",
      "  Using cached joblib-1.3.2-py3-none-any.whl.metadata (5.4 kB)\r\n",
      "Collecting regex>=2021.8.3 (from nltk->rouge_score)\r\n",
      "  Obtaining dependency information for regex>=2021.8.3 from https://files.pythonhosted.org/packages/cd/98/999f0456bdb4124b3d0a7f1d8b6d50979536f5df9856e597580dd9a6d3ff/regex-2023.10.3-cp39-cp39-macosx_11_0_arm64.whl.metadata\r\n",
      "  Using cached regex-2023.10.3-cp39-cp39-macosx_11_0_arm64.whl.metadata (40 kB)\r\n",
      "Requirement already satisfied: tqdm in /Users/valerio/PycharmProjects/SICK_Summarization/venv/lib/python3.9/site-packages (from nltk->rouge_score) (4.66.1)\r\n",
      "Using cached absl_py-2.0.0-py3-none-any.whl (130 kB)\r\n",
      "Using cached regex-2023.10.3-cp39-cp39-macosx_11_0_arm64.whl (291 kB)\r\n",
      "Using cached click-8.1.7-py3-none-any.whl (97 kB)\r\n",
      "Using cached joblib-1.3.2-py3-none-any.whl (302 kB)\r\n",
      "Installing collected packages: regex, joblib, click, absl-py, nltk, rouge_score\r\n",
      "Successfully installed absl-py-2.0.0 click-8.1.7 joblib-1.3.2 nltk-3.8.1 regex-2023.10.3 rouge_score-0.1.2\r\n",
      "\r\n",
      "\u001B[1m[\u001B[0m\u001B[34;49mnotice\u001B[0m\u001B[1;39;49m]\u001B[0m\u001B[39;49m A new release of pip is available: \u001B[0m\u001B[31;49m23.2.1\u001B[0m\u001B[39;49m -> \u001B[0m\u001B[32;49m23.3.1\u001B[0m\r\n",
      "\u001B[1m[\u001B[0m\u001B[34;49mnotice\u001B[0m\u001B[1;39;49m]\u001B[0m\u001B[39;49m To update, run: \u001B[0m\u001B[32;49mpip install --upgrade pip\u001B[0m\r\n",
      "Collecting bert_score\r\n",
      "  Using cached bert_score-0.3.13-py3-none-any.whl (61 kB)\r\n",
      "Collecting torch>=1.0.0 (from bert_score)\r\n",
      "  Obtaining dependency information for torch>=1.0.0 from https://files.pythonhosted.org/packages/ee/9d/85614d94b24f751d175110753ae8a8cb10e7e533a9289bb493f2f4db8bcd/torch-2.1.1-cp39-none-macosx_11_0_arm64.whl.metadata\r\n",
      "  Using cached torch-2.1.1-cp39-none-macosx_11_0_arm64.whl.metadata (25 kB)\r\n",
      "Requirement already satisfied: pandas>=1.0.1 in /Users/valerio/PycharmProjects/SICK_Summarization/venv/lib/python3.9/site-packages (from bert_score) (2.1.4)\r\n",
      "Collecting transformers>=3.0.0 (from bert_score)\r\n",
      "  Obtaining dependency information for transformers>=3.0.0 from https://files.pythonhosted.org/packages/0f/12/d8e27a190ca67811f81deea3183b528d9169f10b74d827e0b9211520ecfa/transformers-4.36.0-py3-none-any.whl.metadata\r\n",
      "  Using cached transformers-4.36.0-py3-none-any.whl.metadata (126 kB)\r\n",
      "Requirement already satisfied: numpy in /Users/valerio/PycharmProjects/SICK_Summarization/venv/lib/python3.9/site-packages (from bert_score) (1.26.2)\r\n",
      "Requirement already satisfied: requests in /Users/valerio/PycharmProjects/SICK_Summarization/venv/lib/python3.9/site-packages (from bert_score) (2.31.0)\r\n",
      "Requirement already satisfied: tqdm>=4.31.1 in /Users/valerio/PycharmProjects/SICK_Summarization/venv/lib/python3.9/site-packages (from bert_score) (4.66.1)\r\n",
      "Collecting matplotlib (from bert_score)\r\n",
      "  Obtaining dependency information for matplotlib from https://files.pythonhosted.org/packages/5c/98/211647fc6aa89355c11b028f37ceae95d7e1bbb99ac363cbf4c4297ef4d7/matplotlib-3.8.2-cp39-cp39-macosx_11_0_arm64.whl.metadata\r\n",
      "  Using cached matplotlib-3.8.2-cp39-cp39-macosx_11_0_arm64.whl.metadata (5.8 kB)\r\n",
      "Requirement already satisfied: packaging>=20.9 in /Users/valerio/PycharmProjects/SICK_Summarization/venv/lib/python3.9/site-packages (from bert_score) (23.2)\r\n",
      "Requirement already satisfied: python-dateutil>=2.8.2 in /Users/valerio/PycharmProjects/SICK_Summarization/venv/lib/python3.9/site-packages (from pandas>=1.0.1->bert_score) (2.8.2)\r\n",
      "Requirement already satisfied: pytz>=2020.1 in /Users/valerio/PycharmProjects/SICK_Summarization/venv/lib/python3.9/site-packages (from pandas>=1.0.1->bert_score) (2023.3.post1)\r\n",
      "Requirement already satisfied: tzdata>=2022.1 in /Users/valerio/PycharmProjects/SICK_Summarization/venv/lib/python3.9/site-packages (from pandas>=1.0.1->bert_score) (2023.3)\r\n",
      "Requirement already satisfied: filelock in /Users/valerio/PycharmProjects/SICK_Summarization/venv/lib/python3.9/site-packages (from torch>=1.0.0->bert_score) (3.13.1)\r\n",
      "Requirement already satisfied: typing-extensions in /Users/valerio/PycharmProjects/SICK_Summarization/venv/lib/python3.9/site-packages (from torch>=1.0.0->bert_score) (4.9.0)\r\n",
      "Collecting sympy (from torch>=1.0.0->bert_score)\r\n",
      "  Using cached sympy-1.12-py3-none-any.whl (5.7 MB)\r\n",
      "Collecting networkx (from torch>=1.0.0->bert_score)\r\n",
      "  Obtaining dependency information for networkx from https://files.pythonhosted.org/packages/d5/f0/8fbc882ca80cf077f1b246c0e3c3465f7f415439bdea6b899f6b19f61f70/networkx-3.2.1-py3-none-any.whl.metadata\r\n",
      "  Using cached networkx-3.2.1-py3-none-any.whl.metadata (5.2 kB)\r\n",
      "Requirement already satisfied: jinja2 in /Users/valerio/PycharmProjects/SICK_Summarization/venv/lib/python3.9/site-packages (from torch>=1.0.0->bert_score) (3.1.2)\r\n",
      "Requirement already satisfied: fsspec in /Users/valerio/PycharmProjects/SICK_Summarization/venv/lib/python3.9/site-packages (from torch>=1.0.0->bert_score) (2023.10.0)\r\n",
      "Requirement already satisfied: huggingface-hub<1.0,>=0.19.3 in /Users/valerio/PycharmProjects/SICK_Summarization/venv/lib/python3.9/site-packages (from transformers>=3.0.0->bert_score) (0.19.4)\r\n",
      "Requirement already satisfied: pyyaml>=5.1 in /Users/valerio/PycharmProjects/SICK_Summarization/venv/lib/python3.9/site-packages (from transformers>=3.0.0->bert_score) (6.0.1)\r\n",
      "Requirement already satisfied: regex!=2019.12.17 in /Users/valerio/PycharmProjects/SICK_Summarization/venv/lib/python3.9/site-packages (from transformers>=3.0.0->bert_score) (2023.10.3)\r\n",
      "Collecting tokenizers<0.19,>=0.14 (from transformers>=3.0.0->bert_score)\r\n",
      "  Obtaining dependency information for tokenizers<0.19,>=0.14 from https://files.pythonhosted.org/packages/9e/2d/35a9f9378962fd954cd097efc0d3b7beee86c12d4e61cf6199bdef58e091/tokenizers-0.15.0-cp39-cp39-macosx_11_0_arm64.whl.metadata\r\n",
      "  Downloading tokenizers-0.15.0-cp39-cp39-macosx_11_0_arm64.whl.metadata (6.7 kB)\r\n",
      "Collecting safetensors>=0.3.1 (from transformers>=3.0.0->bert_score)\r\n",
      "  Obtaining dependency information for safetensors>=0.3.1 from https://files.pythonhosted.org/packages/ea/7c/a4a49a22fc082279d36c416f0fe2d89ca558fd214ab9e9afd889dfb8180f/safetensors-0.4.1-cp39-cp39-macosx_11_0_arm64.whl.metadata\r\n",
      "  Downloading safetensors-0.4.1-cp39-cp39-macosx_11_0_arm64.whl.metadata (3.8 kB)\r\n",
      "Collecting contourpy>=1.0.1 (from matplotlib->bert_score)\r\n",
      "  Obtaining dependency information for contourpy>=1.0.1 from https://files.pythonhosted.org/packages/8a/b8/258adec810e0c4c28292ad1af5736809d393587bd88e79635343fcdc78d0/contourpy-1.2.0-cp39-cp39-macosx_11_0_arm64.whl.metadata\r\n",
      "  Using cached contourpy-1.2.0-cp39-cp39-macosx_11_0_arm64.whl.metadata (5.8 kB)\r\n",
      "Collecting cycler>=0.10 (from matplotlib->bert_score)\r\n",
      "  Obtaining dependency information for cycler>=0.10 from https://files.pythonhosted.org/packages/e7/05/c19819d5e3d95294a6f5947fb9b9629efb316b96de511b418c53d245aae6/cycler-0.12.1-py3-none-any.whl.metadata\r\n",
      "  Using cached cycler-0.12.1-py3-none-any.whl.metadata (3.8 kB)\r\n",
      "Collecting fonttools>=4.22.0 (from matplotlib->bert_score)\r\n",
      "  Obtaining dependency information for fonttools>=4.22.0 from https://files.pythonhosted.org/packages/2b/ff/8c9b05fd2bbdfe6fee7c0e8a3e8981b4454404dca3ef58fc98a6673a6cf8/fonttools-4.46.0-cp39-cp39-macosx_10_9_universal2.whl.metadata\r\n",
      "  Downloading fonttools-4.46.0-cp39-cp39-macosx_10_9_universal2.whl.metadata (156 kB)\r\n",
      "\u001B[2K     \u001B[90m━━━━━━━━━━━━━━━━━━━━━━━━━━━━━━━━━━━━━━━\u001B[0m \u001B[32m156.2/156.2 kB\u001B[0m \u001B[31m6.8 MB/s\u001B[0m eta \u001B[36m0:00:00\u001B[0m\r\n",
      "\u001B[?25hCollecting kiwisolver>=1.3.1 (from matplotlib->bert_score)\r\n",
      "  Obtaining dependency information for kiwisolver>=1.3.1 from https://files.pythonhosted.org/packages/89/a8/3b7e14121bea4438b87630557645bb7648b17b54acaa39b93f4bf7f8d33e/kiwisolver-1.4.5-cp39-cp39-macosx_11_0_arm64.whl.metadata\r\n",
      "  Using cached kiwisolver-1.4.5-cp39-cp39-macosx_11_0_arm64.whl.metadata (6.4 kB)\r\n",
      "Collecting pillow>=8 (from matplotlib->bert_score)\r\n",
      "  Obtaining dependency information for pillow>=8 from https://files.pythonhosted.org/packages/91/67/9bf0b3c0f43d5e1aa6795318feefad2ec5e5a10b51454b047dc608619fbb/Pillow-10.1.0-cp39-cp39-macosx_11_0_arm64.whl.metadata\r\n",
      "  Using cached Pillow-10.1.0-cp39-cp39-macosx_11_0_arm64.whl.metadata (9.5 kB)\r\n",
      "Collecting pyparsing>=2.3.1 (from matplotlib->bert_score)\r\n",
      "  Obtaining dependency information for pyparsing>=2.3.1 from https://files.pythonhosted.org/packages/39/92/8486ede85fcc088f1b3dba4ce92dd29d126fd96b0008ea213167940a2475/pyparsing-3.1.1-py3-none-any.whl.metadata\r\n",
      "  Using cached pyparsing-3.1.1-py3-none-any.whl.metadata (5.1 kB)\r\n",
      "Collecting importlib-resources>=3.2.0 (from matplotlib->bert_score)\r\n",
      "  Obtaining dependency information for importlib-resources>=3.2.0 from https://files.pythonhosted.org/packages/93/e8/facde510585869b5ec694e8e0363ffe4eba067cb357a8398a55f6a1f8023/importlib_resources-6.1.1-py3-none-any.whl.metadata\r\n",
      "  Using cached importlib_resources-6.1.1-py3-none-any.whl.metadata (4.1 kB)\r\n",
      "Requirement already satisfied: charset-normalizer<4,>=2 in /Users/valerio/PycharmProjects/SICK_Summarization/venv/lib/python3.9/site-packages (from requests->bert_score) (3.3.2)\r\n",
      "Requirement already satisfied: idna<4,>=2.5 in /Users/valerio/PycharmProjects/SICK_Summarization/venv/lib/python3.9/site-packages (from requests->bert_score) (3.6)\r\n",
      "Requirement already satisfied: urllib3<3,>=1.21.1 in /Users/valerio/PycharmProjects/SICK_Summarization/venv/lib/python3.9/site-packages (from requests->bert_score) (2.1.0)\r\n",
      "Requirement already satisfied: certifi>=2017.4.17 in /Users/valerio/PycharmProjects/SICK_Summarization/venv/lib/python3.9/site-packages (from requests->bert_score) (2023.11.17)\r\n",
      "Requirement already satisfied: zipp>=3.1.0 in /Users/valerio/PycharmProjects/SICK_Summarization/venv/lib/python3.9/site-packages (from importlib-resources>=3.2.0->matplotlib->bert_score) (3.17.0)\r\n",
      "Requirement already satisfied: six>=1.5 in /Users/valerio/PycharmProjects/SICK_Summarization/venv/lib/python3.9/site-packages (from python-dateutil>=2.8.2->pandas>=1.0.1->bert_score) (1.16.0)\r\n",
      "Requirement already satisfied: MarkupSafe>=2.0 in /Users/valerio/PycharmProjects/SICK_Summarization/venv/lib/python3.9/site-packages (from jinja2->torch>=1.0.0->bert_score) (2.1.3)\r\n",
      "Collecting mpmath>=0.19 (from sympy->torch>=1.0.0->bert_score)\r\n",
      "  Using cached mpmath-1.3.0-py3-none-any.whl (536 kB)\r\n",
      "Using cached torch-2.1.1-cp39-none-macosx_11_0_arm64.whl (59.6 MB)\r\n",
      "Using cached transformers-4.36.0-py3-none-any.whl (8.2 MB)\r\n",
      "Using cached matplotlib-3.8.2-cp39-cp39-macosx_11_0_arm64.whl (7.5 MB)\r\n",
      "Using cached contourpy-1.2.0-cp39-cp39-macosx_11_0_arm64.whl (242 kB)\r\n",
      "Using cached cycler-0.12.1-py3-none-any.whl (8.3 kB)\r\n",
      "Downloading fonttools-4.46.0-cp39-cp39-macosx_10_9_universal2.whl (2.8 MB)\r\n",
      "\u001B[2K   \u001B[90m━━━━━━━━━━━━━━━━━━━━━━━━━━━━━━━━━━━━━━━━\u001B[0m \u001B[32m2.8/2.8 MB\u001B[0m \u001B[31m58.1 MB/s\u001B[0m eta \u001B[36m0:00:00\u001B[0ma \u001B[36m0:00:01\u001B[0m\r\n",
      "\u001B[?25hUsing cached importlib_resources-6.1.1-py3-none-any.whl (33 kB)\r\n",
      "Using cached kiwisolver-1.4.5-cp39-cp39-macosx_11_0_arm64.whl (66 kB)\r\n",
      "Using cached Pillow-10.1.0-cp39-cp39-macosx_11_0_arm64.whl (3.3 MB)\r\n",
      "Using cached pyparsing-3.1.1-py3-none-any.whl (103 kB)\r\n",
      "Using cached safetensors-0.4.1-cp39-cp39-macosx_11_0_arm64.whl (426 kB)\r\n",
      "Using cached tokenizers-0.15.0-cp39-cp39-macosx_11_0_arm64.whl (2.5 MB)\r\n",
      "Using cached networkx-3.2.1-py3-none-any.whl (1.6 MB)\r\n",
      "Installing collected packages: mpmath, sympy, safetensors, pyparsing, pillow, networkx, kiwisolver, importlib-resources, fonttools, cycler, contourpy, torch, matplotlib, tokenizers, transformers, bert_score\r\n",
      "Successfully installed bert_score-0.3.13 contourpy-1.2.0 cycler-0.12.1 fonttools-4.46.0 importlib-resources-6.1.1 kiwisolver-1.4.5 matplotlib-3.8.2 mpmath-1.3.0 networkx-3.2.1 pillow-10.1.0 pyparsing-3.1.1 safetensors-0.4.1 sympy-1.12 tokenizers-0.15.0 torch-2.1.1 transformers-4.36.0\r\n",
      "\r\n",
      "\u001B[1m[\u001B[0m\u001B[34;49mnotice\u001B[0m\u001B[1;39;49m]\u001B[0m\u001B[39;49m A new release of pip is available: \u001B[0m\u001B[31;49m23.2.1\u001B[0m\u001B[39;49m -> \u001B[0m\u001B[32;49m23.3.1\u001B[0m\r\n",
      "\u001B[1m[\u001B[0m\u001B[34;49mnotice\u001B[0m\u001B[1;39;49m]\u001B[0m\u001B[39;49m To update, run: \u001B[0m\u001B[32;49mpip install --upgrade pip\u001B[0m\r\n",
      "Collecting py7zr\r\n",
      "  Obtaining dependency information for py7zr from https://files.pythonhosted.org/packages/c0/39/71263be4c6081e1788f4da35e937fca1808914b0d98a04bd44255b948699/py7zr-0.20.8-py3-none-any.whl.metadata\r\n",
      "  Using cached py7zr-0.20.8-py3-none-any.whl.metadata (16 kB)\r\n",
      "Collecting texttable (from py7zr)\r\n",
      "  Obtaining dependency information for texttable from https://files.pythonhosted.org/packages/24/99/4772b8e00a136f3e01236de33b0efda31ee7077203ba5967fcc76da94d65/texttable-1.7.0-py2.py3-none-any.whl.metadata\r\n",
      "  Using cached texttable-1.7.0-py2.py3-none-any.whl.metadata (9.8 kB)\r\n",
      "Collecting pycryptodomex>=3.16.0 (from py7zr)\r\n",
      "  Obtaining dependency information for pycryptodomex>=3.16.0 from https://files.pythonhosted.org/packages/b7/1a/546118e6b2084d68290d2f9c0c168aa26e981a35f3d119b2856fbed7c060/pycryptodomex-3.19.0-cp35-abi3-macosx_10_9_universal2.whl.metadata\r\n",
      "  Using cached pycryptodomex-3.19.0-cp35-abi3-macosx_10_9_universal2.whl.metadata (3.4 kB)\r\n",
      "Collecting pyzstd>=0.15.9 (from py7zr)\r\n",
      "  Obtaining dependency information for pyzstd>=0.15.9 from https://files.pythonhosted.org/packages/e8/ca/a441772f5b8e78912ce1dd3605bb46b62857d7dea6271015fd9d5e043c34/pyzstd-0.15.9-cp39-cp39-macosx_11_0_arm64.whl.metadata\r\n",
      "  Using cached pyzstd-0.15.9-cp39-cp39-macosx_11_0_arm64.whl.metadata (7.5 kB)\r\n",
      "Collecting pyppmd<1.2.0,>=1.1.0 (from py7zr)\r\n",
      "  Obtaining dependency information for pyppmd<1.2.0,>=1.1.0 from https://files.pythonhosted.org/packages/ec/80/91a13a5d0da916e7243f66839941976b2729bac1d3ca1737c20f1d59b216/pyppmd-1.1.0-cp39-cp39-macosx_11_0_arm64.whl.metadata\r\n",
      "  Using cached pyppmd-1.1.0-cp39-cp39-macosx_11_0_arm64.whl.metadata (5.7 kB)\r\n",
      "Collecting pybcj<1.1.0,>=1.0.0 (from py7zr)\r\n",
      "  Obtaining dependency information for pybcj<1.1.0,>=1.0.0 from https://files.pythonhosted.org/packages/1f/90/2d2851d694a7dc3640c6309af0e534cab145e7463bc408114db7eaa20115/pybcj-1.0.2-cp39-cp39-macosx_11_0_arm64.whl.metadata\r\n",
      "  Using cached pybcj-1.0.2-cp39-cp39-macosx_11_0_arm64.whl.metadata (4.0 kB)\r\n",
      "Collecting multivolumefile>=0.2.3 (from py7zr)\r\n",
      "  Using cached multivolumefile-0.2.3-py3-none-any.whl (17 kB)\r\n",
      "Collecting inflate64<1.1.0,>=1.0.0 (from py7zr)\r\n",
      "  Obtaining dependency information for inflate64<1.1.0,>=1.0.0 from https://files.pythonhosted.org/packages/13/64/4350547de7c8a3ac27c1a0ab5807ac2fcbcde121c44190f87da1039421eb/inflate64-1.0.0-cp39-cp39-macosx_11_0_arm64.whl.metadata\r\n",
      "  Using cached inflate64-1.0.0-cp39-cp39-macosx_11_0_arm64.whl.metadata (4.0 kB)\r\n",
      "Collecting brotli>=1.1.0 (from py7zr)\r\n",
      "  Obtaining dependency information for brotli>=1.1.0 from https://files.pythonhosted.org/packages/1b/aa/aa6e0c9848ee4375514af0b27abf470904992939b7363ae78fc8aca8a9a8/Brotli-1.1.0-cp39-cp39-macosx_10_9_universal2.whl.metadata\r\n",
      "  Using cached Brotli-1.1.0-cp39-cp39-macosx_10_9_universal2.whl.metadata (5.5 kB)\r\n",
      "Requirement already satisfied: psutil in /Users/valerio/PycharmProjects/SICK_Summarization/venv/lib/python3.9/site-packages (from py7zr) (5.9.6)\r\n",
      "Using cached py7zr-0.20.8-py3-none-any.whl (67 kB)\r\n",
      "Using cached Brotli-1.1.0-cp39-cp39-macosx_10_9_universal2.whl (873 kB)\r\n",
      "Using cached inflate64-1.0.0-cp39-cp39-macosx_11_0_arm64.whl (35 kB)\r\n",
      "Using cached pybcj-1.0.2-cp39-cp39-macosx_11_0_arm64.whl (23 kB)\r\n",
      "Using cached pycryptodomex-3.19.0-cp35-abi3-macosx_10_9_universal2.whl (2.4 MB)\r\n",
      "Using cached pyppmd-1.1.0-cp39-cp39-macosx_11_0_arm64.whl (46 kB)\r\n",
      "Using cached pyzstd-0.15.9-cp39-cp39-macosx_11_0_arm64.whl (330 kB)\r\n",
      "Using cached texttable-1.7.0-py2.py3-none-any.whl (10 kB)\r\n",
      "Installing collected packages: texttable, brotli, pyzstd, pyppmd, pycryptodomex, pybcj, multivolumefile, inflate64, py7zr\r\n",
      "Successfully installed brotli-1.1.0 inflate64-1.0.0 multivolumefile-0.2.3 py7zr-0.20.8 pybcj-1.0.2 pycryptodomex-3.19.0 pyppmd-1.1.0 pyzstd-0.15.9 texttable-1.7.0\r\n",
      "\r\n",
      "\u001B[1m[\u001B[0m\u001B[34;49mnotice\u001B[0m\u001B[1;39;49m]\u001B[0m\u001B[39;49m A new release of pip is available: \u001B[0m\u001B[31;49m23.2.1\u001B[0m\u001B[39;49m -> \u001B[0m\u001B[32;49m23.3.1\u001B[0m\r\n",
      "\u001B[1m[\u001B[0m\u001B[34;49mnotice\u001B[0m\u001B[1;39;49m]\u001B[0m\u001B[39;49m To update, run: \u001B[0m\u001B[32;49mpip install --upgrade pip\u001B[0m\r\n"
     ]
    }
   ],
   "source": [
    "!pip install datasets\n",
    "!pip install tqdm\n",
    "!pip install pandas\n",
    "!pip install rouge_score\n",
    "!pip install bert_score\n",
    "!pip install py7zr"
   ]
  },
  {
   "cell_type": "code",
   "execution_count": 3,
   "metadata": {
    "executionInfo": {
     "elapsed": 1913,
     "status": "ok",
     "timestamp": 1701775194546,
     "user": {
      "displayName": "Riccardo Moroni",
      "userId": "18296577952803036872"
     },
     "user_tz": -60
    },
    "id": "duIVVZ5RsCPm",
    "ExecuteTime": {
     "end_time": "2023-12-12T12:20:39.085946Z",
     "start_time": "2023-12-12T12:20:39.084757Z"
    }
   },
   "outputs": [],
   "source": [
    "from datasets import load_dataset, load_metric\n",
    "from tqdm import tqdm\n",
    "import pandas as pd"
   ]
  },
  {
   "cell_type": "code",
   "execution_count": 1,
   "metadata": {
    "colab": {
     "base_uri": "https://localhost:8080/"
    },
    "executionInfo": {
     "elapsed": 19179,
     "status": "ok",
     "timestamp": 1701775075249,
     "user": {
      "displayName": "Riccardo Moroni",
      "userId": "18296577952803036872"
     },
     "user_tz": -60
    },
    "id": "52UznMw1sFdV",
    "outputId": "708ec6a0-f8a1-4285-cebc-361d33abbaa1"
   },
   "outputs": [
    {
     "name": "stdout",
     "output_type": "stream",
     "text": [
      "Mounted at /content/drive\n"
     ]
    }
   ],
   "source": [
    "from google.colab import drive\n",
    "drive.mount('/content/drive')"
   ]
  },
  {
   "cell_type": "code",
   "execution_count": 23,
   "metadata": {
    "colab": {
     "base_uri": "https://localhost:8080/",
     "height": 244
    },
    "executionInfo": {
     "elapsed": 217,
     "status": "error",
     "timestamp": 1701775211842,
     "user": {
      "displayName": "Riccardo Moroni",
      "userId": "18296577952803036872"
     },
     "user_tz": -60
    },
    "id": "fHO7Prr7sCPq",
    "outputId": "e53fa1d8-59c7-48a7-d0b6-32412cc8f6d3",
    "ExecuteTime": {
     "end_time": "2023-12-12T16:08:18.729146Z",
     "start_time": "2023-12-12T16:08:18.723882Z"
    }
   },
   "outputs": [],
   "source": [
    "results_path = '/Users/valerio/Downloads/giuseppe_vanilla.txt'\n",
    "labels_path = '/Users/valerio/Downloads/giuseppe.txt'\n",
    "\n",
    "with open(results_path, 'r') as file:\n",
    "    sentences = file.read().split('\\n')\n",
    "\n",
    "predictions = list(filter(lambda x: x.strip() != '', sentences))\n",
    "\n",
    "with open(labels_path, 'r') as file:\n",
    "    sentences = file.read().split('\\n')\n",
    "\n",
    "labels = list(filter(lambda x: x.strip() != '', sentences))\n"
   ]
  },
  {
   "cell_type": "code",
   "execution_count": 24,
   "outputs": [
    {
     "name": "stdout",
     "output_type": "stream",
     "text": [
      "819\n",
      "819\n"
     ]
    }
   ],
   "source": [
    "print(len(labels))\n",
    "print(len(predictions))"
   ],
   "metadata": {
    "collapsed": false,
    "ExecuteTime": {
     "end_time": "2023-12-12T16:08:28.995057Z",
     "start_time": "2023-12-12T16:08:28.991385Z"
    }
   }
  },
  {
   "cell_type": "code",
   "execution_count": 25,
   "outputs": [],
   "source": [
    "from sentence_transformers import SentenceTransformer\n",
    "from sklearn.metrics.pairwise import cosine_similarity\n",
    "\n",
    "def calculate_similarity(target, prediction, model_name='sentence-transformers/all-mpnet-base-v2'):\n",
    "    # Load the model\n",
    "    model = SentenceTransformer(model_name)\n",
    "\n",
    "    # Encode the sentences\n",
    "    embedding_target = model.encode(target, convert_to_tensor=True)\n",
    "    embedding_prediction = model.encode(prediction, convert_to_tensor=True)\n",
    "\n",
    "    # Reshape the embeddings for cosine similarity calculation\n",
    "    embedding_target = embedding_target.reshape(1, -1)\n",
    "    embedding_prediction = embedding_prediction.reshape(1, -1)\n",
    "\n",
    "    # Compute cosine similarity\n",
    "    similarity = cosine_similarity(embedding_target.cpu().detach().numpy(), embedding_prediction.cpu().detach().numpy())\n",
    "\n",
    "    return similarity[0][0]\n",
    "\n"
   ],
   "metadata": {
    "collapsed": false,
    "ExecuteTime": {
     "end_time": "2023-12-12T16:08:34.105955Z",
     "start_time": "2023-12-12T16:08:34.101129Z"
    }
   }
  },
  {
   "cell_type": "code",
   "execution_count": 26,
   "metadata": {
    "id": "k0my0sxNsCPq",
    "outputId": "d5a049ec-4994-4d11-8d0b-2ade4dd457e5",
    "ExecuteTime": {
     "end_time": "2023-12-12T16:12:58.573026Z",
     "start_time": "2023-12-12T16:08:37.965752Z"
    }
   },
   "outputs": [
    {
     "name": "stderr",
     "output_type": "stream",
     "text": [
      "100%|██████████| 819/819 [04:19<00:00,  3.15it/s]\n"
     ]
    }
   ],
   "source": [
    "# '/content/drive/MyDrive/2_1_Deep_NLP/SICK_Summarization/utils/rouge.py'\n",
    "metric = load_metric('../utils/rouge.py')\n",
    "bertscore_metric = load_metric(\"bertscore\", lang='en', model_type='bert-base-uncased')\n",
    "\n",
    "results_v2=[]\n",
    "for i in tqdm(range(len(predictions))):\n",
    "\n",
    "    r = metric.compute(predictions=[predictions[i]], references=[labels[i]])\n",
    "    r = {key: value.mid.fmeasure * 100 for key, value in r.items()}\n",
    "\n",
    "    bertscore_metric.add_batch(predictions=[predictions[i]], references=[labels[i]])\n",
    "    bertscore_result = bertscore_metric.compute(lang='en', model_type='bert-base-uncased')\n",
    "    bertscore_result = sum(bertscore_result['f1']) / len(bertscore_result['f1'])\n",
    "    \n",
    "    semantic_simarity_score = calculate_similarity(predictions[i], labels[i])\n",
    "    r[\"similarity_score\"] = semantic_simarity_score\n",
    "    r['bert_score'] = bertscore_result\n",
    "\n",
    "    results_v2.append(r)"
   ]
  },
  {
   "cell_type": "code",
   "execution_count": 27,
   "outputs": [
    {
     "name": "stdout",
     "output_type": "stream",
     "text": [
      "Data has been saved to output_vanilla.xlsx\n"
     ]
    }
   ],
   "source": [
    "import pandas as pd\n",
    "\n",
    "\n",
    "\n",
    "# Create a DataFrame\n",
    "data = {'prediction': predictions, 'lables': labels, 'score': results_v2}\n",
    "df = pd.DataFrame(data)\n",
    "\n",
    "# Specify the Excel file path\n",
    "excel_file_path = 'output_vanilla.xlsx'\n",
    "\n",
    "# Save the DataFrame to an Excel file\n",
    "df.to_excel(excel_file_path, index=False)\n",
    "\n",
    "print(f'Data has been saved to {excel_file_path}')"
   ],
   "metadata": {
    "collapsed": false,
    "ExecuteTime": {
     "end_time": "2023-12-12T16:13:10.099285Z",
     "start_time": "2023-12-12T16:13:10.032279Z"
    }
   }
  },
  {
   "cell_type": "code",
   "execution_count": null,
   "outputs": [],
   "source": [
    "from tqdm import tqdm\n",
    "from transformers import pipeline, load_metric\n",
    "\n",
    "# Load metrics\n",
    "rouge_metric = load_metric('rouge.py')\n",
    "bertscore_metric = load_metric('bertscore', lang='en', model_type='bert-base-uncased')\n",
    "\n",
    "results = []\n",
    "\n",
    "# Iterate through predictions and labels\n",
    "for prediction, label in tqdm(zip(predictions, labels), total=len(predictions)):\n",
    "    # Calculate ROUGE scores\n",
    "    rouge_scores = rouge_metric.compute(predictions=[prediction], references=[label])\n",
    "    rouge_scores = {key: value.mid.fmeasure * 100 for key, value in rouge_scores.items()}\n",
    "\n",
    "    # Calculate BERTScore\n",
    "    bertscore_metric.add_batch(predictions=[prediction], references=[label])\n",
    "    bertscore_result = bertscore_metric.compute(lang='en', model_type='bert-base-uncased')\n",
    "    bertscore_result = sum(bertscore_result['f1']) / len(bertscore_result['f1'])\n",
    "\n",
    "    # Calculate semantic similarity\n",
    "    semantic_similarity_score = calculate_similarity(prediction, label)\n",
    "\n",
    "    # Add scores to the results dictionary\n",
    "    rouge_scores['similarity_score'] = semantic_similarity_score\n",
    "    rouge_scores['bert_score'] = bertscore_result\n",
    "\n",
    "    # Append results to the list\n",
    "    results.append(rouge_scores)\n"
   ],
   "metadata": {
    "collapsed": false
   }
  },
  {
   "cell_type": "code",
   "execution_count": 18,
   "metadata": {
    "id": "Kdmaxz5ksCPr",
    "ExecuteTime": {
     "end_time": "2023-12-12T14:26:28.346611Z",
     "start_time": "2023-12-12T14:26:28.324316Z"
    }
   },
   "outputs": [
    {
     "ename": "TypeError",
     "evalue": "to_excel() got an unexpected keyword argument 'encoding'",
     "output_type": "error",
     "traceback": [
      "\u001B[0;31m---------------------------------------------------------------------------\u001B[0m",
      "\u001B[0;31mTypeError\u001B[0m                                 Traceback (most recent call last)",
      "Cell \u001B[0;32mIn[18], line 5\u001B[0m\n\u001B[1;32m      2\u001B[0m res_v2\u001B[38;5;241m.\u001B[39mcolumns \u001B[38;5;241m=\u001B[39m [\u001B[38;5;124m'\u001B[39m\u001B[38;5;124msamsum_test_summary\u001B[39m\u001B[38;5;124m'\u001B[39m, \u001B[38;5;124m'\u001B[39m\u001B[38;5;124mcandidates\u001B[39m\u001B[38;5;124m'\u001B[39m, \u001B[38;5;124m'\u001B[39m\u001B[38;5;124mresults\u001B[39m\u001B[38;5;124m'\u001B[39m]\n\u001B[1;32m      3\u001B[0m res_v2 \u001B[38;5;241m=\u001B[39m res_v2[\u001B[38;5;124m'\u001B[39m\u001B[38;5;124mresults\u001B[39m\u001B[38;5;124m'\u001B[39m]\u001B[38;5;241m.\u001B[39mapply(pd\u001B[38;5;241m.\u001B[39mSeries)\u001B[38;5;241m.\u001B[39mmerge(res_v2, left_index\u001B[38;5;241m=\u001B[39m\u001B[38;5;28;01mTrue\u001B[39;00m, right_index\u001B[38;5;241m=\u001B[39m\u001B[38;5;28;01mTrue\u001B[39;00m)\u001B[38;5;241m.\u001B[39mdrop(\u001B[38;5;124m'\u001B[39m\u001B[38;5;124mresults\u001B[39m\u001B[38;5;124m'\u001B[39m, axis\u001B[38;5;241m=\u001B[39m\u001B[38;5;241m1\u001B[39m)\n\u001B[0;32m----> 5\u001B[0m \u001B[43mres_v2\u001B[49m\u001B[38;5;241;43m.\u001B[39;49m\u001B[43mto_excel\u001B[49m\u001B[43m(\u001B[49m\u001B[38;5;124;43m'\u001B[39;49m\u001B[38;5;124;43m./res_v2_rouge_scores_EMOJI_M1.xlsx\u001B[39;49m\u001B[38;5;124;43m'\u001B[39;49m\u001B[43m,\u001B[49m\u001B[43m \u001B[49m\u001B[43mencoding\u001B[49m\u001B[38;5;241;43m=\u001B[39;49m\u001B[38;5;124;43m'\u001B[39;49m\u001B[38;5;124;43mutf-8\u001B[39;49m\u001B[38;5;124;43m'\u001B[39;49m\u001B[43m)\u001B[49m\n",
      "\u001B[0;31mTypeError\u001B[0m: to_excel() got an unexpected keyword argument 'encoding'"
     ]
    }
   ],
   "source": [
    "res_v2 = pd.DataFrame([predictions, labels, results_v2]).T\n",
    "res_v2.columns = ['samsum_test_summary', 'candidates', 'results']\n",
    "res_v2 = res_v2['results'].apply(pd.Series).merge(res_v2, left_index=True, right_index=True).drop('results', axis=1)\n",
    "\n",
    "res_v2.to_excel('./res_v2_rouge_scores_EMOJI_M1.xlsx', encoding='utf-8')"
   ]
  },
  {
   "cell_type": "code",
   "execution_count": null,
   "metadata": {},
   "outputs": [],
   "source": []
  }
 ],
 "metadata": {
  "accelerator": "GPU",
  "colab": {
   "gpuType": "T4",
   "provenance": []
  },
  "kernelspec": {
   "name": "python3",
   "language": "python",
   "display_name": "Python 3 (ipykernel)"
  },
  "language_info": {
   "codemirror_mode": {
    "name": "ipython",
    "version": 3
   },
   "file_extension": ".py",
   "mimetype": "text/x-python",
   "name": "python",
   "nbconvert_exporter": "python",
   "pygments_lexer": "ipython3",
   "version": "3.7.16"
  }
 },
 "nbformat": 4,
 "nbformat_minor": 0
}
